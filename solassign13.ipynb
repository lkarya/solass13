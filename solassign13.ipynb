{
 "cells": [
  {
   "cell_type": "code",
   "execution_count": null,
   "id": "747adea3",
   "metadata": {},
   "outputs": [],
   "source": [
    "# What advantages do Excel spreadsheets have over CSV spreadsheets?\n",
    "Excel is more superior when compared with the CSV file format\n",
    "\n",
    "# What do you pass to csv.reader() and csv.writer() to create reader and writer objects?\n",
    "If we need to write the contents of the 2-dimensional list to a CSV file, here's how we can do it\n",
    "\n",
    "# What modes do File objects for reader and writer objects need to be opened in?\n",
    "‘r’\tOpen a file for reading. (default)\n",
    "‘w’\tOpen a file for writing. Creates a new file if it does not exist or truncates the file if it exists.\n",
    "‘x’\tOpen a file for exclusive creation. If the file already exists, the operation fails.\n",
    "‘a’\tOpen for appending at the end of the file without truncating it. Creates a new file if it does not exist.\n",
    "‘t’\tOpen in text mode. (default)\n",
    "‘b’\tOpen in binary mode.\n",
    "‘+’\tOpen a file for updating (reading and writing)\n",
    "\n",
    "# What method takes a list argument and writes it to a CSV file?\n",
    "The csv. writer writerow method takes an iterable as an argument. Your result set has to be a list (rows) of lists (columns).\n",
    "\n",
    "# What do the keyword arguments delimiter and line terminator do?\n",
    "The line terminator is the character that comes at the end of a row.\n",
    "\n",
    "# What function takes a string of JSON data and returns a Python data structure?\n",
    "loads() method return Python data structure of JSON string or data.\n",
    "\n",
    "\n"
   ]
  }
 ],
 "metadata": {
  "kernelspec": {
   "display_name": "Python 3 (ipykernel)",
   "language": "python",
   "name": "python3"
  },
  "language_info": {
   "codemirror_mode": {
    "name": "ipython",
    "version": 3
   },
   "file_extension": ".py",
   "mimetype": "text/x-python",
   "name": "python",
   "nbconvert_exporter": "python",
   "pygments_lexer": "ipython3",
   "version": "3.9.7"
  }
 },
 "nbformat": 4,
 "nbformat_minor": 5
}
